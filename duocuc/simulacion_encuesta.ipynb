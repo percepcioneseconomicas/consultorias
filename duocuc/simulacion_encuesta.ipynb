{
 "metadata": {
  "language_info": {
   "codemirror_mode": {
    "name": "ipython",
    "version": 3
   },
   "file_extension": ".py",
   "mimetype": "text/x-python",
   "name": "python",
   "nbconvert_exporter": "python",
   "pygments_lexer": "ipython3",
   "version": "3.7.9-final"
  },
  "orig_nbformat": 2,
  "kernelspec": {
   "name": "python3",
   "display_name": "Python 3.7.9 64-bit (conda)",
   "metadata": {
    "interpreter": {
     "hash": "b3ba2566441a7c06988d0923437866b63cedc61552a5af99d1f4fb67d367b25f"
    }
   }
  }
 },
 "nbformat": 4,
 "nbformat_minor": 2,
 "cells": [
  {
   "cell_type": "code",
   "execution_count": 1,
   "metadata": {},
   "outputs": [],
   "source": [
    "import pandas as pd\n",
    "import numpy as np"
   ]
  },
  {
   "cell_type": "code",
   "execution_count": 2,
   "metadata": {},
   "outputs": [],
   "source": [
    "# Tamaño muestral\n",
    "N = 1000"
   ]
  },
  {
   "cell_type": "code",
   "execution_count": 3,
   "metadata": {},
   "outputs": [
    {
     "output_type": "execute_result",
     "data": {
      "text/plain": [
       "  1 Bienes 1 Servicios\n",
       "0       No          No\n",
       "1       Sí          No\n",
       "2       No          Sí\n",
       "3       No          No\n",
       "4       No          Sí"
      ],
      "text/html": "<div>\n<style scoped>\n    .dataframe tbody tr th:only-of-type {\n        vertical-align: middle;\n    }\n\n    .dataframe tbody tr th {\n        vertical-align: top;\n    }\n\n    .dataframe thead th {\n        text-align: right;\n    }\n</style>\n<table border=\"1\" class=\"dataframe\">\n  <thead>\n    <tr style=\"text-align: right;\">\n      <th></th>\n      <th>1 Bienes</th>\n      <th>1 Servicios</th>\n    </tr>\n  </thead>\n  <tbody>\n    <tr>\n      <th>0</th>\n      <td>No</td>\n      <td>No</td>\n    </tr>\n    <tr>\n      <th>1</th>\n      <td>Sí</td>\n      <td>No</td>\n    </tr>\n    <tr>\n      <th>2</th>\n      <td>No</td>\n      <td>Sí</td>\n    </tr>\n    <tr>\n      <th>3</th>\n      <td>No</td>\n      <td>No</td>\n    </tr>\n    <tr>\n      <th>4</th>\n      <td>No</td>\n      <td>Sí</td>\n    </tr>\n  </tbody>\n</table>\n</div>"
     },
     "metadata": {},
     "execution_count": 3
    }
   ],
   "source": [
    "preg1 = np.random.randint(1,3, (N,2))\n",
    "preg1 = np.where(preg1==1, 'Sí', 'No')\n",
    "preg1 = pd.DataFrame(preg1, columns=['1 Bienes', '1 Servicios'])\n",
    "preg1.head()"
   ]
  },
  {
   "cell_type": "code",
   "execution_count": 4,
   "metadata": {},
   "outputs": [
    {
     "output_type": "execute_result",
     "data": {
      "text/plain": [
       "  2 Producción 2 Logística 2 TIC 2 Administración 2 Organización 2 RRHH  \\\n",
       "0           No          No    Sí               No             No     No   \n",
       "1           No          No    Sí               Sí             Sí     Sí   \n",
       "2           Sí          No    Sí               Sí             No     No   \n",
       "3           No          No    No               Sí             Sí     No   \n",
       "4           Sí          No    Sí               Sí             Sí     Sí   \n",
       "\n",
       "  2 Marketing  \n",
       "0          No  \n",
       "1          No  \n",
       "2          No  \n",
       "3          Sí  \n",
       "4          No  "
      ],
      "text/html": "<div>\n<style scoped>\n    .dataframe tbody tr th:only-of-type {\n        vertical-align: middle;\n    }\n\n    .dataframe tbody tr th {\n        vertical-align: top;\n    }\n\n    .dataframe thead th {\n        text-align: right;\n    }\n</style>\n<table border=\"1\" class=\"dataframe\">\n  <thead>\n    <tr style=\"text-align: right;\">\n      <th></th>\n      <th>2 Producción</th>\n      <th>2 Logística</th>\n      <th>2 TIC</th>\n      <th>2 Administración</th>\n      <th>2 Organización</th>\n      <th>2 RRHH</th>\n      <th>2 Marketing</th>\n    </tr>\n  </thead>\n  <tbody>\n    <tr>\n      <th>0</th>\n      <td>No</td>\n      <td>No</td>\n      <td>Sí</td>\n      <td>No</td>\n      <td>No</td>\n      <td>No</td>\n      <td>No</td>\n    </tr>\n    <tr>\n      <th>1</th>\n      <td>No</td>\n      <td>No</td>\n      <td>Sí</td>\n      <td>Sí</td>\n      <td>Sí</td>\n      <td>Sí</td>\n      <td>No</td>\n    </tr>\n    <tr>\n      <th>2</th>\n      <td>Sí</td>\n      <td>No</td>\n      <td>Sí</td>\n      <td>Sí</td>\n      <td>No</td>\n      <td>No</td>\n      <td>No</td>\n    </tr>\n    <tr>\n      <th>3</th>\n      <td>No</td>\n      <td>No</td>\n      <td>No</td>\n      <td>Sí</td>\n      <td>Sí</td>\n      <td>No</td>\n      <td>Sí</td>\n    </tr>\n    <tr>\n      <th>4</th>\n      <td>Sí</td>\n      <td>No</td>\n      <td>Sí</td>\n      <td>Sí</td>\n      <td>Sí</td>\n      <td>Sí</td>\n      <td>No</td>\n    </tr>\n  </tbody>\n</table>\n</div>"
     },
     "metadata": {},
     "execution_count": 4
    }
   ],
   "source": [
    "preg2 = np.random.randint(1,3, (N,7))\n",
    "preg2 = np.where(preg2==1, 'Sí', 'No')\n",
    "preg2 = pd.DataFrame(preg2, columns=['2 Producción', '2 Logística', '2 TIC', '2 Administración', '2 Organización', '2 RRHH', '2 Marketing'])\n",
    "preg2.head()"
   ]
  },
  {
   "cell_type": "code",
   "execution_count": 5,
   "metadata": {},
   "outputs": [
    {
     "output_type": "execute_result",
     "data": {
      "text/plain": [
       "  3 I+D interna 3 I+D externa 3 Activos 3 Conocimiento externo 3 Capacitación  \\\n",
       "0            Sí            Sí        Sí                     No             Sí   \n",
       "1            No            Sí        No                     No             Sí   \n",
       "2            Sí            No        Sí                     Sí             Sí   \n",
       "3            Sí            Sí        No                     No             No   \n",
       "4            No            No        No                     Sí             Sí   \n",
       "\n",
       "  3 Marketing 3 Diseño 3 Puesta a punto 3 Otras  \n",
       "0          Sí       No               Sí      Sí  \n",
       "1          Sí       Sí               Sí      Sí  \n",
       "2          Sí       No               Sí      Sí  \n",
       "3          Sí       Sí               Sí      Sí  \n",
       "4          No       No               Sí      Sí  "
      ],
      "text/html": "<div>\n<style scoped>\n    .dataframe tbody tr th:only-of-type {\n        vertical-align: middle;\n    }\n\n    .dataframe tbody tr th {\n        vertical-align: top;\n    }\n\n    .dataframe thead th {\n        text-align: right;\n    }\n</style>\n<table border=\"1\" class=\"dataframe\">\n  <thead>\n    <tr style=\"text-align: right;\">\n      <th></th>\n      <th>3 I+D interna</th>\n      <th>3 I+D externa</th>\n      <th>3 Activos</th>\n      <th>3 Conocimiento externo</th>\n      <th>3 Capacitación</th>\n      <th>3 Marketing</th>\n      <th>3 Diseño</th>\n      <th>3 Puesta a punto</th>\n      <th>3 Otras</th>\n    </tr>\n  </thead>\n  <tbody>\n    <tr>\n      <th>0</th>\n      <td>Sí</td>\n      <td>Sí</td>\n      <td>Sí</td>\n      <td>No</td>\n      <td>Sí</td>\n      <td>Sí</td>\n      <td>No</td>\n      <td>Sí</td>\n      <td>Sí</td>\n    </tr>\n    <tr>\n      <th>1</th>\n      <td>No</td>\n      <td>Sí</td>\n      <td>No</td>\n      <td>No</td>\n      <td>Sí</td>\n      <td>Sí</td>\n      <td>Sí</td>\n      <td>Sí</td>\n      <td>Sí</td>\n    </tr>\n    <tr>\n      <th>2</th>\n      <td>Sí</td>\n      <td>No</td>\n      <td>Sí</td>\n      <td>Sí</td>\n      <td>Sí</td>\n      <td>Sí</td>\n      <td>No</td>\n      <td>Sí</td>\n      <td>Sí</td>\n    </tr>\n    <tr>\n      <th>3</th>\n      <td>Sí</td>\n      <td>Sí</td>\n      <td>No</td>\n      <td>No</td>\n      <td>No</td>\n      <td>Sí</td>\n      <td>Sí</td>\n      <td>Sí</td>\n      <td>Sí</td>\n    </tr>\n    <tr>\n      <th>4</th>\n      <td>No</td>\n      <td>No</td>\n      <td>No</td>\n      <td>Sí</td>\n      <td>Sí</td>\n      <td>No</td>\n      <td>No</td>\n      <td>Sí</td>\n      <td>Sí</td>\n    </tr>\n  </tbody>\n</table>\n</div>"
     },
     "metadata": {},
     "execution_count": 5
    }
   ],
   "source": [
    "preg3 = np.random.randint(1,3, (N,9))\n",
    "preg3 = np.where(preg3==1, 'Sí', 'No')\n",
    "preg3 = pd.DataFrame(preg3, columns=['3 I+D interna', '3 I+D externa', '3 Activos', '3 Conocimiento externo', '3 Capacitación', '3 Marketing', '3 Diseño', '3 Puesta a punto', '3 Otras'])\n",
    "preg3.head()"
   ]
  },
  {
   "cell_type": "code",
   "execution_count": 6,
   "metadata": {},
   "outputs": [
    {
     "output_type": "execute_result",
     "data": {
      "text/plain": [
       "  4 Tecnología 4 Preferencias de consumidores 4 Modelo de negocio 4 Mercado  \\\n",
       "0        Media                           Baja               Media     Media   \n",
       "1        Media                           Alta                Alta      Nula   \n",
       "2         Nula                           Baja               Media     Media   \n",
       "3         Alta                           Nula                Nula      Baja   \n",
       "4         Nula                           Nula                Baja      Nula   \n",
       "\n",
       "  4 Expansión 4 Costos 4 Competencia 4 Estrategia 4 Cultura 4 Regulación  \\\n",
       "0        Baja    Media         Media         Baja     Media         Nula   \n",
       "1       Media    Media          Baja         Nula      Nula        Media   \n",
       "2        Nula    Media         Media         Alta     Media         Alta   \n",
       "3        Nula     Baja          Alta        Media      Alta         Baja   \n",
       "4        Nula     Alta         Media        Media      Baja         Nula   \n",
       "\n",
       "  4 Incentivos del gobierno  \n",
       "0                      Baja  \n",
       "1                      Alta  \n",
       "2                      Nula  \n",
       "3                      Alta  \n",
       "4                     Media  "
      ],
      "text/html": "<div>\n<style scoped>\n    .dataframe tbody tr th:only-of-type {\n        vertical-align: middle;\n    }\n\n    .dataframe tbody tr th {\n        vertical-align: top;\n    }\n\n    .dataframe thead th {\n        text-align: right;\n    }\n</style>\n<table border=\"1\" class=\"dataframe\">\n  <thead>\n    <tr style=\"text-align: right;\">\n      <th></th>\n      <th>4 Tecnología</th>\n      <th>4 Preferencias de consumidores</th>\n      <th>4 Modelo de negocio</th>\n      <th>4 Mercado</th>\n      <th>4 Expansión</th>\n      <th>4 Costos</th>\n      <th>4 Competencia</th>\n      <th>4 Estrategia</th>\n      <th>4 Cultura</th>\n      <th>4 Regulación</th>\n      <th>4 Incentivos del gobierno</th>\n    </tr>\n  </thead>\n  <tbody>\n    <tr>\n      <th>0</th>\n      <td>Media</td>\n      <td>Baja</td>\n      <td>Media</td>\n      <td>Media</td>\n      <td>Baja</td>\n      <td>Media</td>\n      <td>Media</td>\n      <td>Baja</td>\n      <td>Media</td>\n      <td>Nula</td>\n      <td>Baja</td>\n    </tr>\n    <tr>\n      <th>1</th>\n      <td>Media</td>\n      <td>Alta</td>\n      <td>Alta</td>\n      <td>Nula</td>\n      <td>Media</td>\n      <td>Media</td>\n      <td>Baja</td>\n      <td>Nula</td>\n      <td>Nula</td>\n      <td>Media</td>\n      <td>Alta</td>\n    </tr>\n    <tr>\n      <th>2</th>\n      <td>Nula</td>\n      <td>Baja</td>\n      <td>Media</td>\n      <td>Media</td>\n      <td>Nula</td>\n      <td>Media</td>\n      <td>Media</td>\n      <td>Alta</td>\n      <td>Media</td>\n      <td>Alta</td>\n      <td>Nula</td>\n    </tr>\n    <tr>\n      <th>3</th>\n      <td>Alta</td>\n      <td>Nula</td>\n      <td>Nula</td>\n      <td>Baja</td>\n      <td>Nula</td>\n      <td>Baja</td>\n      <td>Alta</td>\n      <td>Media</td>\n      <td>Alta</td>\n      <td>Baja</td>\n      <td>Alta</td>\n    </tr>\n    <tr>\n      <th>4</th>\n      <td>Nula</td>\n      <td>Nula</td>\n      <td>Baja</td>\n      <td>Nula</td>\n      <td>Nula</td>\n      <td>Alta</td>\n      <td>Media</td>\n      <td>Media</td>\n      <td>Baja</td>\n      <td>Nula</td>\n      <td>Media</td>\n    </tr>\n  </tbody>\n</table>\n</div>"
     },
     "metadata": {},
     "execution_count": 6
    }
   ],
   "source": [
    "codigo = {\n",
    "    1: \"Alta\",\n",
    "    2: \"Media\",\n",
    "    3: \"Baja\",\n",
    "    4: \"Nula\"}\n",
    "\n",
    "preg4 = np.random.randint(1,5, (N,11))\n",
    "preg4 = pd.DataFrame(preg4, columns=['4 Tecnología', '4 Preferencias de consumidores', '4 Modelo de negocio', '4 Mercado', '4 Expansión', '4 Costos', '4 Competencia', '4 Estrategia', '4 Cultura', '4 Regulación', '4 Incentivos del gobierno'])\n",
    "preg4 = preg4.replace(codigo)\n",
    "preg4.head()"
   ]
  },
  {
   "cell_type": "code",
   "execution_count": 7,
   "metadata": {},
   "outputs": [
    {
     "output_type": "execute_result",
     "data": {
      "text/plain": [
       "                                          5 Impactos\n",
       "0  [Aumento de la productividad, Mejores producto...\n",
       "1  [Aumento de la productividad, Mejores producto...\n",
       "2  [Aumento de la productividad, Mejores producto...\n",
       "3  [Aumento de la productividad, Mejores producto...\n",
       "4  [Aumento de la productividad, Aumento de las v..."
      ],
      "text/html": "<div>\n<style scoped>\n    .dataframe tbody tr th:only-of-type {\n        vertical-align: middle;\n    }\n\n    .dataframe tbody tr th {\n        vertical-align: top;\n    }\n\n    .dataframe thead th {\n        text-align: right;\n    }\n</style>\n<table border=\"1\" class=\"dataframe\">\n  <thead>\n    <tr style=\"text-align: right;\">\n      <th></th>\n      <th>5 Impactos</th>\n    </tr>\n  </thead>\n  <tbody>\n    <tr>\n      <th>0</th>\n      <td>[Aumento de la productividad, Mejores producto...</td>\n    </tr>\n    <tr>\n      <th>1</th>\n      <td>[Aumento de la productividad, Mejores producto...</td>\n    </tr>\n    <tr>\n      <th>2</th>\n      <td>[Aumento de la productividad, Mejores producto...</td>\n    </tr>\n    <tr>\n      <th>3</th>\n      <td>[Aumento de la productividad, Mejores producto...</td>\n    </tr>\n    <tr>\n      <th>4</th>\n      <td>[Aumento de la productividad, Aumento de las v...</td>\n    </tr>\n  </tbody>\n</table>\n</div>"
     },
     "metadata": {},
     "execution_count": 7
    }
   ],
   "source": [
    "codigo = {\n",
    "    1: \"Aumento de la productividad\",\n",
    "    2: \"Mejores productos y servicios\",\n",
    "    3: \"Mayor satisfacción de los clientes\",\n",
    "    4: \"Optimización de procesos\",\n",
    "    5: \"Aumento de las ventas\",\n",
    "    6: \"Reducción de los riesgos\",\n",
    "    7: \"Menores costos laborales\",\n",
    "    8: \"Menores costos de producción\",\n",
    "    9: \"Ser pionero en el mercado\",\n",
    "    10: \"Ninguna de las anteriores\"}\n",
    "\n",
    "largo = np.random.randint(1, 10, N) #se omite respuesta 10\n",
    "opciones = np.arange(1,10)\n",
    "respuestas = [np.sort(np.random.choice(opciones, e, replace=False)).tolist() for e in largo]\n",
    "\n",
    "preg5 = [[] for e in range(N)]\n",
    "for i in range(N):\n",
    "    for e in respuestas[i]:\n",
    "        preg5[i].append(codigo[e])\n",
    "\n",
    "preg5 = np.array(preg5, dtype=object)\n",
    "preg5 = preg5.reshape(-1,1)\n",
    "preg5 = pd.DataFrame(preg5, columns=['5 Impactos'])\n",
    "preg5.head()"
   ]
  },
  {
   "cell_type": "code",
   "execution_count": 8,
   "metadata": {},
   "outputs": [
    {
     "output_type": "execute_result",
     "data": {
      "text/plain": [
       "  6 Financiamiento externo 6 Financiamiento interno 6 Financiamiento público  \\\n",
       "0                    Media                     Alta                     Baja   \n",
       "1                    Media                     Alta                     Nula   \n",
       "2                     Alta                     Alta                     Baja   \n",
       "3                    Media                     Alta                     Nula   \n",
       "4                     Nula                    Media                     Nula   \n",
       "\n",
       "  6 Costo muy alto 6 Habilidades y conocimiento 6 Cultura 6 Tiempo  \\\n",
       "0             Alta                         Nula     Media     Alta   \n",
       "1            Media                        Media     Media     Nula   \n",
       "2             Nula                        Media      Alta     Alta   \n",
       "3            Media                         Baja     Media     Alta   \n",
       "4             Alta                         Alta     Media     Nula   \n",
       "\n",
       "  6 Aversión al riesgo 6 Prioridades 6 Demanda incierta 6 Demanda nula  \\\n",
       "0                 Baja         Media               Nula           Nula   \n",
       "1                 Nula          Alta               Alta           Nula   \n",
       "2                Media         Media               Baja           Nula   \n",
       "3                 Baja          Alta               Alta          Media   \n",
       "4                 Nula          Alta              Media           Baja   \n",
       "\n",
       "  6 Competencia 6 Partners 6 Proveedores 6 Regulación  \n",
       "0          Baja       Baja          Baja         Baja  \n",
       "1          Nula       Baja          Alta         Alta  \n",
       "2         Media       Nula          Baja         Baja  \n",
       "3          Nula       Nula          Alta         Nula  \n",
       "4          Alta       Nula          Alta         Baja  "
      ],
      "text/html": "<div>\n<style scoped>\n    .dataframe tbody tr th:only-of-type {\n        vertical-align: middle;\n    }\n\n    .dataframe tbody tr th {\n        vertical-align: top;\n    }\n\n    .dataframe thead th {\n        text-align: right;\n    }\n</style>\n<table border=\"1\" class=\"dataframe\">\n  <thead>\n    <tr style=\"text-align: right;\">\n      <th></th>\n      <th>6 Financiamiento externo</th>\n      <th>6 Financiamiento interno</th>\n      <th>6 Financiamiento público</th>\n      <th>6 Costo muy alto</th>\n      <th>6 Habilidades y conocimiento</th>\n      <th>6 Cultura</th>\n      <th>6 Tiempo</th>\n      <th>6 Aversión al riesgo</th>\n      <th>6 Prioridades</th>\n      <th>6 Demanda incierta</th>\n      <th>6 Demanda nula</th>\n      <th>6 Competencia</th>\n      <th>6 Partners</th>\n      <th>6 Proveedores</th>\n      <th>6 Regulación</th>\n    </tr>\n  </thead>\n  <tbody>\n    <tr>\n      <th>0</th>\n      <td>Media</td>\n      <td>Alta</td>\n      <td>Baja</td>\n      <td>Alta</td>\n      <td>Nula</td>\n      <td>Media</td>\n      <td>Alta</td>\n      <td>Baja</td>\n      <td>Media</td>\n      <td>Nula</td>\n      <td>Nula</td>\n      <td>Baja</td>\n      <td>Baja</td>\n      <td>Baja</td>\n      <td>Baja</td>\n    </tr>\n    <tr>\n      <th>1</th>\n      <td>Media</td>\n      <td>Alta</td>\n      <td>Nula</td>\n      <td>Media</td>\n      <td>Media</td>\n      <td>Media</td>\n      <td>Nula</td>\n      <td>Nula</td>\n      <td>Alta</td>\n      <td>Alta</td>\n      <td>Nula</td>\n      <td>Nula</td>\n      <td>Baja</td>\n      <td>Alta</td>\n      <td>Alta</td>\n    </tr>\n    <tr>\n      <th>2</th>\n      <td>Alta</td>\n      <td>Alta</td>\n      <td>Baja</td>\n      <td>Nula</td>\n      <td>Media</td>\n      <td>Alta</td>\n      <td>Alta</td>\n      <td>Media</td>\n      <td>Media</td>\n      <td>Baja</td>\n      <td>Nula</td>\n      <td>Media</td>\n      <td>Nula</td>\n      <td>Baja</td>\n      <td>Baja</td>\n    </tr>\n    <tr>\n      <th>3</th>\n      <td>Media</td>\n      <td>Alta</td>\n      <td>Nula</td>\n      <td>Media</td>\n      <td>Baja</td>\n      <td>Media</td>\n      <td>Alta</td>\n      <td>Baja</td>\n      <td>Alta</td>\n      <td>Alta</td>\n      <td>Media</td>\n      <td>Nula</td>\n      <td>Nula</td>\n      <td>Alta</td>\n      <td>Nula</td>\n    </tr>\n    <tr>\n      <th>4</th>\n      <td>Nula</td>\n      <td>Media</td>\n      <td>Nula</td>\n      <td>Alta</td>\n      <td>Alta</td>\n      <td>Media</td>\n      <td>Nula</td>\n      <td>Nula</td>\n      <td>Alta</td>\n      <td>Media</td>\n      <td>Baja</td>\n      <td>Alta</td>\n      <td>Nula</td>\n      <td>Alta</td>\n      <td>Baja</td>\n    </tr>\n  </tbody>\n</table>\n</div>"
     },
     "metadata": {},
     "execution_count": 8
    }
   ],
   "source": [
    "codigo = {\n",
    "    1: \"Alta\",\n",
    "    2: \"Media\",\n",
    "    3: \"Baja\",\n",
    "    4: \"Nula\"}\n",
    "\n",
    "preg6 = np.random.randint(1,5, (N,15))\n",
    "preg6 = pd.DataFrame(preg6, columns=['6 Financiamiento externo', '6 Financiamiento interno', '6 Financiamiento público', '6 Costo muy alto', '6 Habilidades y conocimiento', '6 Cultura', '6 Tiempo', '6 Aversión al riesgo', '6 Prioridades', '6 Demanda incierta', '6 Demanda nula', '6 Competencia', '6 Partners', '6 Proveedores', '6 Regulación'])\n",
    "preg6 = preg6.replace(codigo)\n",
    "\n",
    "preg6.head()"
   ]
  },
  {
   "cell_type": "code",
   "execution_count": 9,
   "metadata": {},
   "outputs": [
    {
     "output_type": "execute_result",
     "data": {
      "text/plain": [
       "           7 Activos 7 Conocimiento externo        7 Capacitación  \\\n",
       "0  Entre $20M y $60M           Más de $230M         Menos de $20M   \n",
       "1  Entre $20M y $60M                   Nada  Entre $60,1M y $230M   \n",
       "2      Menos de $20M   Entre $60,1M y $230M     Entre $20M y $60M   \n",
       "3  Entre $20M y $60M           Más de $230M                  Nada   \n",
       "4      Menos de $20M   Entre $60,1M y $230M          Más de $230M   \n",
       "\n",
       "     7 Marketing           7 Diseño      7 Puesta a punto  \\\n",
       "0           Nada               Nada          Más de $230M   \n",
       "1  Menos de $20M  Entre $20M y $60M                  Nada   \n",
       "2   Más de $230M      Menos de $20M     Entre $20M y $60M   \n",
       "3           Nada      Menos de $20M     Entre $20M y $60M   \n",
       "4  Menos de $20M       Más de $230M  Entre $60,1M y $230M   \n",
       "\n",
       "                7 Total  \n",
       "0          Más de $230M  \n",
       "1     Entre $20M y $60M  \n",
       "2          Más de $230M  \n",
       "3  Entre $60,1M y $230M  \n",
       "4         Menos de $20M  "
      ],
      "text/html": "<div>\n<style scoped>\n    .dataframe tbody tr th:only-of-type {\n        vertical-align: middle;\n    }\n\n    .dataframe tbody tr th {\n        vertical-align: top;\n    }\n\n    .dataframe thead th {\n        text-align: right;\n    }\n</style>\n<table border=\"1\" class=\"dataframe\">\n  <thead>\n    <tr style=\"text-align: right;\">\n      <th></th>\n      <th>7 Activos</th>\n      <th>7 Conocimiento externo</th>\n      <th>7 Capacitación</th>\n      <th>7 Marketing</th>\n      <th>7 Diseño</th>\n      <th>7 Puesta a punto</th>\n      <th>7 Total</th>\n    </tr>\n  </thead>\n  <tbody>\n    <tr>\n      <th>0</th>\n      <td>Entre $20M y $60M</td>\n      <td>Más de $230M</td>\n      <td>Menos de $20M</td>\n      <td>Nada</td>\n      <td>Nada</td>\n      <td>Más de $230M</td>\n      <td>Más de $230M</td>\n    </tr>\n    <tr>\n      <th>1</th>\n      <td>Entre $20M y $60M</td>\n      <td>Nada</td>\n      <td>Entre $60,1M y $230M</td>\n      <td>Menos de $20M</td>\n      <td>Entre $20M y $60M</td>\n      <td>Nada</td>\n      <td>Entre $20M y $60M</td>\n    </tr>\n    <tr>\n      <th>2</th>\n      <td>Menos de $20M</td>\n      <td>Entre $60,1M y $230M</td>\n      <td>Entre $20M y $60M</td>\n      <td>Más de $230M</td>\n      <td>Menos de $20M</td>\n      <td>Entre $20M y $60M</td>\n      <td>Más de $230M</td>\n    </tr>\n    <tr>\n      <th>3</th>\n      <td>Entre $20M y $60M</td>\n      <td>Más de $230M</td>\n      <td>Nada</td>\n      <td>Nada</td>\n      <td>Menos de $20M</td>\n      <td>Entre $20M y $60M</td>\n      <td>Entre $60,1M y $230M</td>\n    </tr>\n    <tr>\n      <th>4</th>\n      <td>Menos de $20M</td>\n      <td>Entre $60,1M y $230M</td>\n      <td>Más de $230M</td>\n      <td>Menos de $20M</td>\n      <td>Más de $230M</td>\n      <td>Entre $60,1M y $230M</td>\n      <td>Menos de $20M</td>\n    </tr>\n  </tbody>\n</table>\n</div>"
     },
     "metadata": {},
     "execution_count": 9
    }
   ],
   "source": [
    "codigo = {\n",
    "    1: \"Menos de $20M\",\n",
    "    2: \"Entre $20M y $60M\",\n",
    "    3: \"Entre $60,1M y $230M\",\n",
    "    4: \"Más de $230M\",\n",
    "    5: \"Nada\"}\n",
    "\n",
    "preg7 = np.random.randint(1,6, (N,7))\n",
    "preg7 = pd.DataFrame(preg7, columns=['7 Activos', '7 Conocimiento externo', '7 Capacitación', '7 Marketing', '7 Diseño', '7 Puesta a punto', '7 Total'])\n",
    "preg7 = preg7.replace(codigo)\n",
    "\n",
    "preg7.head()"
   ]
  },
  {
   "cell_type": "code",
   "execution_count": 10,
   "metadata": {},
   "outputs": [
    {
     "output_type": "execute_result",
     "data": {
      "text/plain": [
       "  8 Cambio gasto total\n",
       "0            Aumentará\n",
       "1           Disminuirá\n",
       "2           Disminuirá\n",
       "3   Se mantendrá igual\n",
       "4           No gastará"
      ],
      "text/html": "<div>\n<style scoped>\n    .dataframe tbody tr th:only-of-type {\n        vertical-align: middle;\n    }\n\n    .dataframe tbody tr th {\n        vertical-align: top;\n    }\n\n    .dataframe thead th {\n        text-align: right;\n    }\n</style>\n<table border=\"1\" class=\"dataframe\">\n  <thead>\n    <tr style=\"text-align: right;\">\n      <th></th>\n      <th>8 Cambio gasto total</th>\n    </tr>\n  </thead>\n  <tbody>\n    <tr>\n      <th>0</th>\n      <td>Aumentará</td>\n    </tr>\n    <tr>\n      <th>1</th>\n      <td>Disminuirá</td>\n    </tr>\n    <tr>\n      <th>2</th>\n      <td>Disminuirá</td>\n    </tr>\n    <tr>\n      <th>3</th>\n      <td>Se mantendrá igual</td>\n    </tr>\n    <tr>\n      <th>4</th>\n      <td>No gastará</td>\n    </tr>\n  </tbody>\n</table>\n</div>"
     },
     "metadata": {},
     "execution_count": 10
    }
   ],
   "source": [
    "codigo = {\n",
    "    1: \"Aumentará\",\n",
    "    2: \"Se mantendrá igual\",\n",
    "    3: \"Disminuirá\",\n",
    "    4: \"No gastará\",\n",
    "    5: \"No sabe\"}\n",
    "\n",
    "preg8 = np.random.randint(1,6, (N,1))\n",
    "preg8 = pd.DataFrame(preg8, columns=['8 Cambio gasto total'])\n",
    "preg8 = preg8.replace(codigo)\n",
    "\n",
    "preg8.head()"
   ]
  },
  {
   "cell_type": "code",
   "execution_count": 11,
   "metadata": {},
   "outputs": [
    {
     "output_type": "execute_result",
     "data": {
      "text/plain": [
       "   8a Cuánto\n",
       "0      212.0\n",
       "1       56.0\n",
       "2      193.0\n",
       "3        NaN\n",
       "4        NaN"
      ],
      "text/html": "<div>\n<style scoped>\n    .dataframe tbody tr th:only-of-type {\n        vertical-align: middle;\n    }\n\n    .dataframe tbody tr th {\n        vertical-align: top;\n    }\n\n    .dataframe thead th {\n        text-align: right;\n    }\n</style>\n<table border=\"1\" class=\"dataframe\">\n  <thead>\n    <tr style=\"text-align: right;\">\n      <th></th>\n      <th>8a Cuánto</th>\n    </tr>\n  </thead>\n  <tbody>\n    <tr>\n      <th>0</th>\n      <td>212.0</td>\n    </tr>\n    <tr>\n      <th>1</th>\n      <td>56.0</td>\n    </tr>\n    <tr>\n      <th>2</th>\n      <td>193.0</td>\n    </tr>\n    <tr>\n      <th>3</th>\n      <td>NaN</td>\n    </tr>\n    <tr>\n      <th>4</th>\n      <td>NaN</td>\n    </tr>\n  </tbody>\n</table>\n</div>"
     },
     "metadata": {},
     "execution_count": 11
    }
   ],
   "source": [
    "preg8a = np.random.randint(1,230, (N,1))\n",
    "preg8a = np.where(preg8.isin(['Aumentará', 'Disminuirá']), preg8a, np.NaN)\n",
    "preg8a = pd.DataFrame(preg8a, columns=['8a Cuánto'])\n",
    "\n",
    "preg8a.head()"
   ]
  },
  {
   "cell_type": "code",
   "execution_count": 12,
   "metadata": {},
   "outputs": [
    {
     "output_type": "execute_result",
     "data": {
      "text/plain": [
       "  9 Innovación institucionalizada\n",
       "0                              No\n",
       "1                              Sí\n",
       "2                              Sí\n",
       "3                              No\n",
       "4                              Sí"
      ],
      "text/html": "<div>\n<style scoped>\n    .dataframe tbody tr th:only-of-type {\n        vertical-align: middle;\n    }\n\n    .dataframe tbody tr th {\n        vertical-align: top;\n    }\n\n    .dataframe thead th {\n        text-align: right;\n    }\n</style>\n<table border=\"1\" class=\"dataframe\">\n  <thead>\n    <tr style=\"text-align: right;\">\n      <th></th>\n      <th>9 Innovación institucionalizada</th>\n    </tr>\n  </thead>\n  <tbody>\n    <tr>\n      <th>0</th>\n      <td>No</td>\n    </tr>\n    <tr>\n      <th>1</th>\n      <td>Sí</td>\n    </tr>\n    <tr>\n      <th>2</th>\n      <td>Sí</td>\n    </tr>\n    <tr>\n      <th>3</th>\n      <td>No</td>\n    </tr>\n    <tr>\n      <th>4</th>\n      <td>Sí</td>\n    </tr>\n  </tbody>\n</table>\n</div>"
     },
     "metadata": {},
     "execution_count": 12
    }
   ],
   "source": [
    "preg9 = np.random.randint(1,3, (N,1))\n",
    "preg9 = np.where(preg9==1, 'Sí', 'No')\n",
    "preg9 = pd.DataFrame(preg9, columns=['9 Innovación institucionalizada'])\n",
    "preg9.head()"
   ]
  },
  {
   "cell_type": "code",
   "execution_count": 13,
   "metadata": {},
   "outputs": [
    {
     "output_type": "execute_result",
     "data": {
      "text/plain": [
       "        10 Entre 1 y 6 meses  \\\n",
       "0                        NaN   \n",
       "1                        NaN   \n",
       "2                        NaN   \n",
       "3                        NaN   \n",
       "4  [Innovación de productos]   \n",
       "\n",
       "                               10 Entre 7 y 12 meses  \\\n",
       "0                           [Innovación de procesos]   \n",
       "1                                                NaN   \n",
       "2                                                NaN   \n",
       "3  [Innovación de productos, Innovación de procesos]   \n",
       "4                                                NaN   \n",
       "\n",
       "        10 Entre 1 y 2 años 10 Más de 2 años  \n",
       "0                       NaN              NaN  \n",
       "1                        []              NaN  \n",
       "2  [Innovación de procesos]              NaN  \n",
       "3                       NaN              NaN  \n",
       "4                       NaN              NaN  "
      ],
      "text/html": "<div>\n<style scoped>\n    .dataframe tbody tr th:only-of-type {\n        vertical-align: middle;\n    }\n\n    .dataframe tbody tr th {\n        vertical-align: top;\n    }\n\n    .dataframe thead th {\n        text-align: right;\n    }\n</style>\n<table border=\"1\" class=\"dataframe\">\n  <thead>\n    <tr style=\"text-align: right;\">\n      <th></th>\n      <th>10 Entre 1 y 6 meses</th>\n      <th>10 Entre 7 y 12 meses</th>\n      <th>10 Entre 1 y 2 años</th>\n      <th>10 Más de 2 años</th>\n    </tr>\n  </thead>\n  <tbody>\n    <tr>\n      <th>0</th>\n      <td>NaN</td>\n      <td>[Innovación de procesos]</td>\n      <td>NaN</td>\n      <td>NaN</td>\n    </tr>\n    <tr>\n      <th>1</th>\n      <td>NaN</td>\n      <td>NaN</td>\n      <td>[]</td>\n      <td>NaN</td>\n    </tr>\n    <tr>\n      <th>2</th>\n      <td>NaN</td>\n      <td>NaN</td>\n      <td>[Innovación de procesos]</td>\n      <td>NaN</td>\n    </tr>\n    <tr>\n      <th>3</th>\n      <td>NaN</td>\n      <td>[Innovación de productos, Innovación de procesos]</td>\n      <td>NaN</td>\n      <td>NaN</td>\n    </tr>\n    <tr>\n      <th>4</th>\n      <td>[Innovación de productos]</td>\n      <td>NaN</td>\n      <td>NaN</td>\n      <td>NaN</td>\n    </tr>\n  </tbody>\n</table>\n</div>"
     },
     "metadata": {},
     "execution_count": 13
    }
   ],
   "source": [
    "codigo = {\n",
    "    1: \"Innovación de productos\",\n",
    "    2: \"Innovación de procesos\"}\n",
    "\n",
    "largo = np.random.randint(0,3, N)\n",
    "opciones = np.arange(1,3)\n",
    "respuestas = [np.sort(np.random.choice(opciones, e, replace=False)).tolist() for e in largo]\n",
    "\n",
    "resp = [[] for e in range(N)]\n",
    "for i in range(N):\n",
    "    for e in respuestas[i]:\n",
    "        resp[i].append(codigo[e])\n",
    "\n",
    "preg10 = np.ones((N,4), dtype=object)*np.NaN\n",
    "for i in range(N):\n",
    "    k = np.random.randint(0,4)\n",
    "    preg10[i,k] = resp[i]\n",
    "\n",
    "preg10 = pd.DataFrame(preg10, columns=['10 Entre 1 y 6 meses', '10 Entre 7 y 12 meses', '10 Entre 1 y 2 años', '10 Más de 2 años'])\n",
    "preg10.head()"
   ]
  },
  {
   "cell_type": "code",
   "execution_count": 14,
   "metadata": {},
   "outputs": [
    {
     "output_type": "execute_result",
     "data": {
      "text/plain": [
       "                                     11 Colaboración\n",
       "0  [Innovación en procesos, Innovación, escalamie...\n",
       "1  [Innovación en procesos, Design factory, Torne...\n",
       "2            [Design factory, Torneo, Matching fund]\n",
       "3                          [Desarrollo experimental]\n",
       "4                                                 []"
      ],
      "text/html": "<div>\n<style scoped>\n    .dataframe tbody tr th:only-of-type {\n        vertical-align: middle;\n    }\n\n    .dataframe tbody tr th {\n        vertical-align: top;\n    }\n\n    .dataframe thead th {\n        text-align: right;\n    }\n</style>\n<table border=\"1\" class=\"dataframe\">\n  <thead>\n    <tr style=\"text-align: right;\">\n      <th></th>\n      <th>11 Colaboración</th>\n    </tr>\n  </thead>\n  <tbody>\n    <tr>\n      <th>0</th>\n      <td>[Innovación en procesos, Innovación, escalamie...</td>\n    </tr>\n    <tr>\n      <th>1</th>\n      <td>[Innovación en procesos, Design factory, Torne...</td>\n    </tr>\n    <tr>\n      <th>2</th>\n      <td>[Design factory, Torneo, Matching fund]</td>\n    </tr>\n    <tr>\n      <th>3</th>\n      <td>[Desarrollo experimental]</td>\n    </tr>\n    <tr>\n      <th>4</th>\n      <td>[]</td>\n    </tr>\n  </tbody>\n</table>\n</div>"
     },
     "metadata": {},
     "execution_count": 14
    }
   ],
   "source": [
    "codigo = {\n",
    "    1: \"Innovación en procesos\",\n",
    "    2: \"Design factory\",\n",
    "    3: \"Torneo\",\n",
    "    4: \"Desarrollo experimental\",\n",
    "    5: \"Innovación, escalamiento y transferencia\",\n",
    "    6: \"Matching fund\",\n",
    "    7: \"Proyecto a medida\"}\n",
    "\n",
    "largo = np.random.randint(0, 8, N) \n",
    "opciones = np.arange(1,8)\n",
    "respuestas = [np.sort(np.random.choice(opciones, e, replace=False)).tolist() for e in largo]\n",
    "\n",
    "preg11 = [[] for e in range(N)]\n",
    "for i in range(N):\n",
    "    for e in respuestas[i]:\n",
    "        preg11[i].append(codigo[e])\n",
    "\n",
    "preg11 = np.array(preg11, dtype=object)\n",
    "preg11 = preg11.reshape(-1,1)\n",
    "preg11 = pd.DataFrame(preg11, columns=['11 Colaboración'])\n",
    "preg11.head()"
   ]
  },
  {
   "cell_type": "code",
   "execution_count": 15,
   "metadata": {},
   "outputs": [
    {
     "output_type": "execute_result",
     "data": {
      "text/plain": [
       "  12 Innovación en procesos     12 Design factory          12 Torneo  \\\n",
       "0              Más de $230M                  Nada       Más de $230M   \n",
       "1              Más de $230M     Entre $20M y $60M      Menos de $20M   \n",
       "2              Más de $230M  Entre $60,1M y $230M  Entre $20M y $60M   \n",
       "3             Menos de $20M     Entre $20M y $60M      Menos de $20M   \n",
       "4                      Nada  Entre $60,1M y $230M      Menos de $20M   \n",
       "\n",
       "  12 Desarrollo experimental 12 Innovación, escalamiento y transferencia  \\\n",
       "0          Entre $20M y $60M                                Más de $230M   \n",
       "1       Entre $60,1M y $230M                           Entre $20M y $60M   \n",
       "2              Menos de $20M                                        Nada   \n",
       "3               Más de $230M                        Entre $60,1M y $230M   \n",
       "4          Entre $20M y $60M                                Más de $230M   \n",
       "\n",
       "    12 Matching fund  12 Proyecto a medida  \n",
       "0      Menos de $20M  Entre $60,1M y $230M  \n",
       "1               Nada  Entre $60,1M y $230M  \n",
       "2  Entre $20M y $60M  Entre $60,1M y $230M  \n",
       "3      Menos de $20M     Entre $20M y $60M  \n",
       "4       Más de $230M         Menos de $20M  "
      ],
      "text/html": "<div>\n<style scoped>\n    .dataframe tbody tr th:only-of-type {\n        vertical-align: middle;\n    }\n\n    .dataframe tbody tr th {\n        vertical-align: top;\n    }\n\n    .dataframe thead th {\n        text-align: right;\n    }\n</style>\n<table border=\"1\" class=\"dataframe\">\n  <thead>\n    <tr style=\"text-align: right;\">\n      <th></th>\n      <th>12 Innovación en procesos</th>\n      <th>12 Design factory</th>\n      <th>12 Torneo</th>\n      <th>12 Desarrollo experimental</th>\n      <th>12 Innovación, escalamiento y transferencia</th>\n      <th>12 Matching fund</th>\n      <th>12 Proyecto a medida</th>\n    </tr>\n  </thead>\n  <tbody>\n    <tr>\n      <th>0</th>\n      <td>Más de $230M</td>\n      <td>Nada</td>\n      <td>Más de $230M</td>\n      <td>Entre $20M y $60M</td>\n      <td>Más de $230M</td>\n      <td>Menos de $20M</td>\n      <td>Entre $60,1M y $230M</td>\n    </tr>\n    <tr>\n      <th>1</th>\n      <td>Más de $230M</td>\n      <td>Entre $20M y $60M</td>\n      <td>Menos de $20M</td>\n      <td>Entre $60,1M y $230M</td>\n      <td>Entre $20M y $60M</td>\n      <td>Nada</td>\n      <td>Entre $60,1M y $230M</td>\n    </tr>\n    <tr>\n      <th>2</th>\n      <td>Más de $230M</td>\n      <td>Entre $60,1M y $230M</td>\n      <td>Entre $20M y $60M</td>\n      <td>Menos de $20M</td>\n      <td>Nada</td>\n      <td>Entre $20M y $60M</td>\n      <td>Entre $60,1M y $230M</td>\n    </tr>\n    <tr>\n      <th>3</th>\n      <td>Menos de $20M</td>\n      <td>Entre $20M y $60M</td>\n      <td>Menos de $20M</td>\n      <td>Más de $230M</td>\n      <td>Entre $60,1M y $230M</td>\n      <td>Menos de $20M</td>\n      <td>Entre $20M y $60M</td>\n    </tr>\n    <tr>\n      <th>4</th>\n      <td>Nada</td>\n      <td>Entre $60,1M y $230M</td>\n      <td>Menos de $20M</td>\n      <td>Entre $20M y $60M</td>\n      <td>Más de $230M</td>\n      <td>Más de $230M</td>\n      <td>Menos de $20M</td>\n    </tr>\n  </tbody>\n</table>\n</div>"
     },
     "metadata": {},
     "execution_count": 15
    }
   ],
   "source": [
    "codigo = {\n",
    "    1: \"Menos de $20M\",\n",
    "    2: \"Entre $20M y $60M\",\n",
    "    3: \"Entre $60,1M y $230M\",\n",
    "    4: \"Más de $230M\",\n",
    "    5: \"Nada\"}\n",
    "\n",
    "preg12 = np.random.randint(1,6, (N,7))\n",
    "preg12 = pd.DataFrame(preg12, columns=['12 Innovación en procesos', '12 Design factory', '12 Torneo', '12 Desarrollo experimental', '12 Innovación, escalamiento y transferencia', '12 Matching fund', '12 Proyecto a medida'])\n",
    "preg12 = preg12.replace(codigo)\n",
    "preg12.head()"
   ]
  },
  {
   "cell_type": "code",
   "execution_count": 16,
   "metadata": {},
   "outputs": [
    {
     "output_type": "execute_result",
     "data": {
      "text/plain": [
       "  13 Tiempo cooperación\n",
       "0     Entre 4 y 6 meses\n",
       "1             No aplica\n",
       "2     Entre 4 y 6 meses\n",
       "3     Entre 1 y 3 meses\n",
       "4      Entre 1 y 2 años"
      ],
      "text/html": "<div>\n<style scoped>\n    .dataframe tbody tr th:only-of-type {\n        vertical-align: middle;\n    }\n\n    .dataframe tbody tr th {\n        vertical-align: top;\n    }\n\n    .dataframe thead th {\n        text-align: right;\n    }\n</style>\n<table border=\"1\" class=\"dataframe\">\n  <thead>\n    <tr style=\"text-align: right;\">\n      <th></th>\n      <th>13 Tiempo cooperación</th>\n    </tr>\n  </thead>\n  <tbody>\n    <tr>\n      <th>0</th>\n      <td>Entre 4 y 6 meses</td>\n    </tr>\n    <tr>\n      <th>1</th>\n      <td>No aplica</td>\n    </tr>\n    <tr>\n      <th>2</th>\n      <td>Entre 4 y 6 meses</td>\n    </tr>\n    <tr>\n      <th>3</th>\n      <td>Entre 1 y 3 meses</td>\n    </tr>\n    <tr>\n      <th>4</th>\n      <td>Entre 1 y 2 años</td>\n    </tr>\n  </tbody>\n</table>\n</div>"
     },
     "metadata": {},
     "execution_count": 16
    }
   ],
   "source": [
    "codigo = {\n",
    "    1: \"Entre 1 y 3 meses\",\n",
    "    2: \"Entre 4 y 6 meses\",\n",
    "    3: \"Entre 7 y 12 meses\",\n",
    "    4: \"Entre 1 y 2 años\",\n",
    "    5: \"No aplica\"}\n",
    "\n",
    "preg13 = np.random.randint(1,6, (N,1))\n",
    "preg13 = pd.DataFrame(preg13, columns=['13 Tiempo cooperación'])\n",
    "preg13 = preg13.replace(codigo)\n",
    "preg13.head()"
   ]
  },
  {
   "cell_type": "code",
   "execution_count": 17,
   "metadata": {},
   "outputs": [
    {
     "output_type": "execute_result",
     "data": {
      "text/plain": [
       "                                         14 Escuelas\n",
       "0  [Ingeniería y Recursos Naturales, Construcción...\n",
       "1                               [Salud, Gastronomía]\n",
       "2  [Informática y Telecomunicaciones, Diseño, Com...\n",
       "3                                      [Gastronomía]\n",
       "4  [Construcción, Diseño, Comunicación, Salud, Ad..."
      ],
      "text/html": "<div>\n<style scoped>\n    .dataframe tbody tr th:only-of-type {\n        vertical-align: middle;\n    }\n\n    .dataframe tbody tr th {\n        vertical-align: top;\n    }\n\n    .dataframe thead th {\n        text-align: right;\n    }\n</style>\n<table border=\"1\" class=\"dataframe\">\n  <thead>\n    <tr style=\"text-align: right;\">\n      <th></th>\n      <th>14 Escuelas</th>\n    </tr>\n  </thead>\n  <tbody>\n    <tr>\n      <th>0</th>\n      <td>[Ingeniería y Recursos Naturales, Construcción...</td>\n    </tr>\n    <tr>\n      <th>1</th>\n      <td>[Salud, Gastronomía]</td>\n    </tr>\n    <tr>\n      <th>2</th>\n      <td>[Informática y Telecomunicaciones, Diseño, Com...</td>\n    </tr>\n    <tr>\n      <th>3</th>\n      <td>[Gastronomía]</td>\n    </tr>\n    <tr>\n      <th>4</th>\n      <td>[Construcción, Diseño, Comunicación, Salud, Ad...</td>\n    </tr>\n  </tbody>\n</table>\n</div>"
     },
     "metadata": {},
     "execution_count": 17
    }
   ],
   "source": [
    "codigo = {\n",
    "    1: \"Ingeniería y Recursos Naturales\",\n",
    "    2: \"Construcción\",\n",
    "    3: \"Informática y Telecomunicaciones\",\n",
    "    4: \"Diseño\",\n",
    "    5: \"Comunicación\",\n",
    "    6: \"Salud\",\n",
    "    7: \"Administración y Negocios\",\n",
    "    8: \"Turismo y Hotelería\",\n",
    "    9: \"Gastronomía\"\n",
    "    }\n",
    "\n",
    "largo = np.random.randint(0, 10, N) \n",
    "opciones = np.arange(1,10)\n",
    "respuestas = [np.sort(np.random.choice(opciones, e, replace=False)).tolist() for e in largo]\n",
    "\n",
    "preg14 = [[] for e in range(N)]\n",
    "for i in range(N):\n",
    "    for e in respuestas[i]:\n",
    "        preg14[i].append(codigo[e])\n",
    "\n",
    "preg14 = np.array(preg14, dtype=object)\n",
    "preg14 = pd.DataFrame(preg14, columns=['14 Escuelas'])\n",
    "preg14.head()"
   ]
  },
  {
   "cell_type": "code",
   "execution_count": 18,
   "metadata": {},
   "outputs": [],
   "source": [
    "data = pd.concat([preg1, preg2, preg3, preg4, preg5, preg6, preg7, preg8, preg8a, preg9, preg10, preg11, preg12, preg13, preg14], axis=1)\n",
    "data = data.sample(300).reset_index(drop=True)"
   ]
  },
  {
   "cell_type": "code",
   "execution_count": 20,
   "metadata": {},
   "outputs": [],
   "source": [
    "data.to_csv('data.csv', index=False, encoding='latin1')"
   ]
  }
 ]
}